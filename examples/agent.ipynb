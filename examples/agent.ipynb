{
 "cells": [
  {
   "cell_type": "code",
   "execution_count": 1,
   "metadata": {},
   "outputs": [
    {
     "data": {
      "text/plain": [
       "True"
      ]
     },
     "execution_count": 1,
     "metadata": {},
     "output_type": "execute_result"
    }
   ],
   "source": [
    "from dotenv import load_dotenv\n",
    "load_dotenv()"
   ]
  },
  {
   "cell_type": "code",
   "execution_count": 2,
   "metadata": {},
   "outputs": [],
   "source": [
    "\n",
    "from langchain_community.graphs import Neo4jGraph\n",
    "neo4j_graph = Neo4jGraph(refresh_schema=False, timeout=300)\n",
    "\n"
   ]
  },
  {
   "cell_type": "code",
   "execution_count": 6,
   "metadata": {},
   "outputs": [],
   "source": [
    "from graphreader_agentic_rag.agent import Graphreader\n",
    "\n",
    "agent = Graphreader().run()\n"
   ]
  },
  {
   "cell_type": "code",
   "execution_count": 7,
   "metadata": {},
   "outputs": [
    {
     "data": {
      "text/plain": [
       "{'answer': 'The genus of the mandaçaia bee is Melipona.',\n",
       " 'analysis': 'The notebook states that the mandaçaia bee is scientifically known as Melipona quadrifasciata and belongs to the genus Melipona. It also provides additional context about the genus Melipona, noting that it comprises about 70 known species of stingless bees prevalent in warm areas of the Neotropics. Furthermore, it highlights the significance of Melipona bees in honey production and their role as efficient pollinators. There are no inconsistencies in the information provided regarding the genus of the mandaçaia bee, as it is consistently identified as Melipona throughout the text.',\n",
       " 'previous_actions': ['rational_plan',\n",
       "  'initial_node_selection',\n",
       "  \"atomic_fact_check(['Melipona genus', 'tribe Meliponini', 'genus Apis', 'Melipona quadrifasciata', 'stingless bees'])\",\n",
       "  'read_chunks(0f183c24597dd56eaba95ecd5dd25b81)',\n",
       "  'answer_reasoning']}"
      ]
     },
     "execution_count": 7,
     "metadata": {},
     "output_type": "execute_result"
    }
   ],
   "source": [
    "question = \"What is the genus of the mandaçaia bee?\"\n",
    "agent.invoke({\"question\": question})"
   ]
  },
  {
   "cell_type": "code",
   "execution_count": 5,
   "metadata": {},
   "outputs": [],
   "source": [
    "from neo4j import GraphDatabase\n",
    "import os \n",
    "# URI examples: \"neo4j://localhost\", \"neo4j+s://xxx.databases.neo4j.io\"\n",
    "URI = \"neo4j+s://5e5f1b28.databases.neo4j.io\"\n",
    "AUTH = (os.environ.get('NEO4J_USERNAME'), os.environ.get('NEO4J_PASSWORD') )\n",
    "\n",
    "with GraphDatabase.driver(URI, auth=AUTH) as driver:\n",
    "    driver.verify_connectivity()"
   ]
  }
 ],
 "metadata": {
  "kernelspec": {
   "display_name": "neo4j_graphreader",
   "language": "python",
   "name": "python3"
  },
  "language_info": {
   "codemirror_mode": {
    "name": "ipython",
    "version": 3
   },
   "file_extension": ".py",
   "mimetype": "text/x-python",
   "name": "python",
   "nbconvert_exporter": "python",
   "pygments_lexer": "ipython3",
   "version": "3.12.7"
  }
 },
 "nbformat": 4,
 "nbformat_minor": 2
}
