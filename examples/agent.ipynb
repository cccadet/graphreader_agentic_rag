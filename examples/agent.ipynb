{
 "cells": [
  {
   "cell_type": "markdown",
   "metadata": {},
   "source": [
    "# Use agent"
   ]
  },
  {
   "cell_type": "markdown",
   "metadata": {},
   "source": [
    "## Import Environment Variables"
   ]
  },
  {
   "cell_type": "code",
   "execution_count": 1,
   "metadata": {},
   "outputs": [
    {
     "data": {
      "text/plain": [
       "True"
      ]
     },
     "execution_count": 1,
     "metadata": {},
     "output_type": "execute_result"
    }
   ],
   "source": [
    "from dotenv import load_dotenv\n",
    "load_dotenv()"
   ]
  },
  {
   "cell_type": "markdown",
   "metadata": {},
   "source": [
    "## Import Packages "
   ]
  },
  {
   "cell_type": "code",
   "execution_count": 2,
   "metadata": {},
   "outputs": [],
   "source": [
    "# If neo4j is slow, try uncommenting the code below:\n",
    "#from langchain_community.graphs import Neo4jGraph\n",
    "#neo4j_graph = Neo4jGraph(refresh_schema=False, timeout=300)\n",
    "\n",
    "from graphreader_agentic_rag.agent import Graphreader\n",
    "\n",
    "import logging\n",
    "\n",
    "logging.basicConfig(level=logging.INFO) # If you want to see more detailed agents logs.\n",
    "# Turn off httpx logging\n",
    "logging.getLogger(\"httpx\").setLevel(logging.WARNING)"
   ]
  },
  {
   "cell_type": "markdown",
   "metadata": {},
   "source": [
    "## Initialize Agent"
   ]
  },
  {
   "cell_type": "code",
   "execution_count": 3,
   "metadata": {},
   "outputs": [],
   "source": [
    "agent = Graphreader().run()"
   ]
  },
  {
   "cell_type": "markdown",
   "metadata": {},
   "source": [
    "### Ask Quetions"
   ]
  },
  {
   "cell_type": "code",
   "execution_count": 4,
   "metadata": {},
   "outputs": [
    {
     "name": "stderr",
     "output_type": "stream",
     "text": [
      "INFO:root:--------------------\n",
      "INFO:root:Step: rational_plan\n",
      "INFO:root:Rational plan: In order to answer this question, we need to identify the scientific classification of the mandaçaia bee. This involves looking for information regarding its taxonomic hierarchy, specifically focusing on the genus to which the mandaçaia bee belongs. We will search for details about its classification in entomological resources or articles that discuss bee taxonomy.\n",
      "INFO:root:--------------------\n",
      "INFO:root:Interaction 1\n",
      "INFO:root:Step: atomic_fact_check\n",
      "INFO:root:Reading atomic facts about: ['Melipona genus', 'tribe Meliponini', 'stingless bees', 'stingless honey bees', 'Melipona quadrifasciata']\n",
      "INFO:root:Rational for next action after atomic check: The atomic facts indicate that the mandaçaia bee is specifically identified as Melipona quadrifasciata, which belongs to the genus Melipona. This directly answers the question regarding the genus of the mandaçaia bee. Therefore, I will proceed to read the relevant text chunks to gather more detailed information about the genus and its characteristics.\n",
      "INFO:root:Chosen action: {'function_name': 'read_chunk', 'arguments': [['443896f5c98ecf7f1f84cce2e74aa0c0']]}\n",
      "INFO:root:--------------------\n",
      "INFO:root:Interaction 2\n",
      "INFO:root:Step: read chunk(443896f5c98ecf7f1f84cce2e74aa0c0)\n",
      "INFO:root:Rational for next action after reading chunks: The current text chunk provides sufficient information to answer the question regarding the genus of the mandaçaia bee, which is Melipona. Therefore, I will choose to terminate and summarize the findings.\n",
      "INFO:root:Chosen action: {'function_name': 'termination', 'arguments': []}\n",
      "INFO:root:--------------------\n",
      "INFO:root:Step: Answer Reasoning\n"
     ]
    },
    {
     "name": "stdout",
     "output_type": "stream",
     "text": [
      "--------------------\n",
      "--------------------\n",
      "{'answer': 'The genus of the mandaçaia bee is Melipona.', 'analysis': 'The notebook indicates that the mandaçaia bee is commonly known as Melipona quadrifasciata and is part of the genus Melipona. It also provides additional context about the genus, noting that it comprises various species of stingless bees and is widespread in warm areas of the Neotropics. There are no inconsistencies in the information provided, as all details point to the same genus.', 'previous_actions': ['rational_plan', 'initial_node_selection', \"atomic_fact_check(['Melipona genus', 'tribe Meliponini', 'stingless bees', 'stingless honey bees', 'Melipona quadrifasciata'])\", 'read_chunks(443896f5c98ecf7f1f84cce2e74aa0c0)', 'answer_reasoning']}\n"
     ]
    }
   ],
   "source": [
    "question = \"What is the genus of the mandaçaia bee?\"\n",
    "result = agent.invoke({\"question\": question})\n",
    "print(\"-\"*20)\n",
    "print(\"-\"*20)\n",
    "print(result)"
   ]
  },
  {
   "cell_type": "code",
   "execution_count": 5,
   "metadata": {},
   "outputs": [
    {
     "name": "stdout",
     "output_type": "stream",
     "text": [
      "The genus of the mandaçaia bee is Melipona.\n"
     ]
    }
   ],
   "source": [
    "print(result['answer'])"
   ]
  },
  {
   "cell_type": "code",
   "execution_count": 6,
   "metadata": {},
   "outputs": [
    {
     "name": "stdout",
     "output_type": "stream",
     "text": [
      "The notebook indicates that the mandaçaia bee is commonly known as Melipona quadrifasciata and is part of the genus Melipona. It also provides additional context about the genus, noting that it comprises various species of stingless bees and is widespread in warm areas of the Neotropics. There are no inconsistencies in the information provided, as all details point to the same genus.\n"
     ]
    }
   ],
   "source": [
    "print(result['analysis'])"
   ]
  },
  {
   "cell_type": "code",
   "execution_count": 7,
   "metadata": {},
   "outputs": [
    {
     "name": "stdout",
     "output_type": "stream",
     "text": [
      "['rational_plan', 'initial_node_selection', \"atomic_fact_check(['Melipona genus', 'tribe Meliponini', 'stingless bees', 'stingless honey bees', 'Melipona quadrifasciata'])\", 'read_chunks(443896f5c98ecf7f1f84cce2e74aa0c0)', 'answer_reasoning']\n"
     ]
    }
   ],
   "source": [
    "print(result['previous_actions'])"
   ]
  },
  {
   "cell_type": "markdown",
   "metadata": {},
   "source": [
    "### Sources"
   ]
  },
  {
   "cell_type": "code",
   "execution_count": 8,
   "metadata": {},
   "outputs": [
    {
     "name": "stdout",
     "output_type": "stream",
     "text": [
      "{'answer': 'The genus of the mandaçaia bee is Melipona.', 'analysis': 'The notebook indicates that the mandaçaia bee is commonly known as Melipona quadrifasciata and is part of the genus Melipona. It also provides additional context about the genus, noting that it comprises various species of stingless bees and is widespread in warm areas of the Neotropics. There are no inconsistencies in the information provided, as all details point to the same genus.', 'sources': '### Fontes \\n\\n - Melipona_quadrifasciata\\n'}\n"
     ]
    }
   ],
   "source": [
    "from graphreader_agentic_rag.chains.neo4j_utils import result_sources\n",
    "\n",
    "result_with_sources = await result_sources(result)\n",
    "print(result_with_sources)"
   ]
  },
  {
   "cell_type": "code",
   "execution_count": 9,
   "metadata": {},
   "outputs": [
    {
     "name": "stdout",
     "output_type": "stream",
     "text": [
      "### Fontes \n",
      "\n",
      " - Melipona_quadrifasciata\n",
      "\n"
     ]
    }
   ],
   "source": [
    "print(result_with_sources['sources'])"
   ]
  }
 ],
 "metadata": {
  "kernelspec": {
   "display_name": "neo4j_graphreader",
   "language": "python",
   "name": "python3"
  },
  "language_info": {
   "codemirror_mode": {
    "name": "ipython",
    "version": 3
   },
   "file_extension": ".py",
   "mimetype": "text/x-python",
   "name": "python",
   "nbconvert_exporter": "python",
   "pygments_lexer": "ipython3",
   "version": "3.12.7"
  }
 },
 "nbformat": 4,
 "nbformat_minor": 2
}
