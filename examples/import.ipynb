{
 "cells": [
  {
   "cell_type": "code",
   "execution_count": 1,
   "metadata": {},
   "outputs": [
    {
     "data": {
      "text/plain": [
       "True"
      ]
     },
     "execution_count": 1,
     "metadata": {},
     "output_type": "execute_result"
    }
   ],
   "source": [
    "from dotenv import load_dotenv\n",
    "load_dotenv()"
   ]
  },
  {
   "cell_type": "code",
   "execution_count": 2,
   "metadata": {},
   "outputs": [],
   "source": [
    "from langchain_community.tools import WikipediaQueryRun\n",
    "from langchain_community.utilities import WikipediaAPIWrapper\n",
    "from graphreader_agentic_rag.documents import Importer"
   ]
  },
  {
   "cell_type": "code",
   "execution_count": 3,
   "metadata": {},
   "outputs": [],
   "source": [
    "loader = Importer()"
   ]
  },
  {
   "cell_type": "code",
   "execution_count": 5,
   "metadata": {},
   "outputs": [],
   "source": [
    "wikipedia = WikipediaQueryRun(\n",
    "    api_wrapper=WikipediaAPIWrapper(doc_content_chars_max=10000)\n",
    ")\n",
    "text = wikipedia.run(\"Tetragonisca_angustula\")"
   ]
  },
  {
   "cell_type": "code",
   "execution_count": 6,
   "metadata": {},
   "outputs": [
    {
     "data": {
      "text/plain": [
       "'Page: Tetragonisca angustula\\nSummary: Tetragonisca angustula is a small eusocial stingless bee found in México, Central and South America. It is known by a variety of names in different regions (e.g. jataí, yatei, jaty, virginitas, angelitas inglesas, españolita, mariola, ramichi, chipisas, virgencitas, and mariolitas). A subspecies, Tetragonisca angustula fiebrigi, occupies different areas in South America and has a slightly different coloration.\\nTetragonisca angustula is a very small bee and builds unobtrusive nests, allowing it to thrive in urban areas. It also produces large amounts of honey, and is thus frequently kept in wooden hives by beekeepers. T. angustula hives are often overlooked, and since the bee lacks a stinger, it is not seen as a threat to humans.\\n\\nMany of their behaviors are concerned with colonizing a new nest and producing offspring, demonstrated by their swarming and nursing behaviors, however a special caste of T. angustula are soldiers who are slightly larger than the workers. The soldiers in a T. angustula nest are very good at protecting the hive against intruders which makes up for not having a stinger. Some of these soldiers hover in mid air outside the nest, which is seen in the adjacent picture.\\n\\n\\n\\nPage: Stingless bee\\nSummary: Stingless bees (SB), sometimes called stingless honey bees or simply meliponines, are a large group of bees (from about 462 to 552 described species), comprising the tribe Meliponini (or subtribe Meliponina according to other authors). They belong in the family Apidae (subfamily Apinae), and are closely related to common honey bees (HB, tribe Apini), orchid bees (tribe Euglossini), and bumblebees (tribe Bombini). These four bee tribes belong to the corbiculate bees monophyletic group. Meliponines have stingers, but they are highly reduced and cannot be used for defense, though these bees exhibit other defensive behaviors and mechanisms. Meliponines are not the only type of bee incapable of stinging: all male bees and many female bees of several other families, such as Andrenidae and Megachilidae (tribe Dioxyini), also cannot sting.\\nSome stingless bees have powerful mandibles and can inflict painful bites. Some species can present large mandibular glands for the secretion of caustic defense substances, secrete unpleasant smells or use sticky materials to immobilise enemies.\\nThe main honey-producing bees of this group generally belong to the genera Scaptotrigona, Tetragonisca, Melipona and Austroplebeia, although there are other genera containing species that produce some usable honey. They are farmed in meliponiculture in the same way that European honey bees (genus Apis) are cultivated in apiculture.\\nThroughout Mesoamerica, the Mayans have engaged in extensive meliponiculture on a large scale since before the arrival of Columbus. Meliponiculture played a significant role in Maya society, influencing their social, economic, and religious activities. The practice of maintaining stingless bees in man-made structures is prevalent across the Americas, with notable instances in countries such as Brazil, Peru, and Mexico.\\n\\nPage: Tetragonisca\\nSummary: Tetragonisca is a genus of stingless bees in the family Apidae. There are at least four described species in Tetragonisca, found in Central and South America.'"
      ]
     },
     "execution_count": 6,
     "metadata": {},
     "output_type": "execute_result"
    }
   ],
   "source": [
    "text"
   ]
  }
 ],
 "metadata": {
  "kernelspec": {
   "display_name": "neo4j_graphreader",
   "language": "python",
   "name": "python3"
  },
  "language_info": {
   "codemirror_mode": {
    "name": "ipython",
    "version": 3
   },
   "file_extension": ".py",
   "mimetype": "text/x-python",
   "name": "python",
   "nbconvert_exporter": "python",
   "pygments_lexer": "ipython3",
   "version": "3.12.7"
  }
 },
 "nbformat": 4,
 "nbformat_minor": 2
}
